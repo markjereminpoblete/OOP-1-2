{
  "nbformat": 4,
  "nbformat_minor": 0,
  "metadata": {
    "colab": {
      "name": "OOP Concepts.ipynb",
      "provenance": [],
      "authorship_tag": "ABX9TyN4Zoq/d5OR66bKeF57Ztj5",
      "include_colab_link": true
    },
    "kernelspec": {
      "name": "python3",
      "display_name": "Python 3"
    },
    "language_info": {
      "name": "python"
    }
  },
  "cells": [
    {
      "cell_type": "markdown",
      "metadata": {
        "id": "view-in-github",
        "colab_type": "text"
      },
      "source": [
        "<a href=\"https://colab.research.google.com/github/markjereminpoblete/OOP-1-2/blob/main/OOP_Concepts.ipynb\" target=\"_parent\"><img src=\"https://colab.research.google.com/assets/colab-badge.svg\" alt=\"Open In Colab\"/></a>"
      ]
    },
    {
      "cell_type": "markdown",
      "source": [
        "#Python Classes and Objects"
      ],
      "metadata": {
        "id": "1cIeEqxfR2pj"
      }
    },
    {
      "cell_type": "markdown",
      "source": [
        "###Create a Class"
      ],
      "metadata": {
        "id": "yL8eUczIR-WS"
      }
    },
    {
      "cell_type": "code",
      "source": [
        "class ClassName:\n",
        "  pass "
      ],
      "metadata": {
        "id": "z2ZUVFFhSBgx"
      },
      "execution_count": 1,
      "outputs": []
    },
    {
      "cell_type": "code",
      "source": [
        "class OOP1_2:\n",
        "  x=5 \n",
        "  print(x)"
      ],
      "metadata": {
        "colab": {
          "base_uri": "https://localhost:8080/"
        },
        "id": "HdzmaSF3SvnC",
        "outputId": "d1da35f3-1516-42d1-da91-726b7c6df6b2"
      },
      "execution_count": 2,
      "outputs": [
        {
          "output_type": "stream",
          "name": "stdout",
          "text": [
            "5\n"
          ]
        }
      ]
    },
    {
      "cell_type": "markdown",
      "source": [
        "###Create Objects"
      ],
      "metadata": {
        "id": "qAemNyqSUFY5"
      }
    },
    {
      "cell_type": "code",
      "source": [
        "class OOP1_2:\n",
        "  def __init__(self,name,age):\n",
        "    self.name = name            #Attributes\n",
        "    self.age = age\n",
        "\n",
        "  def identity(self):\n",
        "      print(self.name, self.age)\n",
        "\n",
        "person=OOP1_2(\"MJ\",18)    #Create objects\n",
        "\n",
        "print(person.name)\n",
        "print(person.age)\n",
        "print(person.identity)\n"
      ],
      "metadata": {
        "colab": {
          "base_uri": "https://localhost:8080/"
        },
        "id": "3mRY_4T6TJWB",
        "outputId": "b56a6dbf-f492-44db-c66f-837ddb71bf90"
      },
      "execution_count": 13,
      "outputs": [
        {
          "output_type": "stream",
          "name": "stdout",
          "text": [
            "MJ\n",
            "18\n",
            "<bound method OOP1_2.identity of <__main__.OOP1_2 object at 0x7f9c61437190>>\n"
          ]
        }
      ]
    },
    {
      "cell_type": "code",
      "source": [
        ""
      ],
      "metadata": {
        "id": "BL0Jg2hJYYhh"
      },
      "execution_count": null,
      "outputs": []
    },
    {
      "cell_type": "code",
      "source": [
        "#Modify Object Name\n",
        "\n",
        "person.name = \"Name\"\n",
        "print(person.name)\n",
        "print(person.age)"
      ],
      "metadata": {
        "colab": {
          "base_uri": "https://localhost:8080/"
        },
        "id": "4HwU4J6qWJmg",
        "outputId": "8dd96f06-9ae6-4be8-a88e-624dad30809e"
      },
      "execution_count": 14,
      "outputs": [
        {
          "output_type": "stream",
          "name": "stdout",
          "text": [
            "Name\n",
            "18\n"
          ]
        }
      ]
    },
    {
      "cell_type": "code",
      "source": [
        "person.age = 20\n",
        "print(person.name)\n",
        "print(person.age)\n"
      ],
      "metadata": {
        "colab": {
          "base_uri": "https://localhost:8080/"
        },
        "id": "LkWsxwC6Wynp",
        "outputId": "d2604599-9cb7-4495-f467-e529645225ec"
      },
      "execution_count": 16,
      "outputs": [
        {
          "output_type": "stream",
          "name": "stdout",
          "text": [
            "Name\n",
            "20\n"
          ]
        }
      ]
    },
    {
      "cell_type": "code",
      "source": [
        "#Delete Object\n",
        "\n",
        "del person.name"
      ],
      "metadata": {
        "id": "CdXpp4IxW3ZI"
      },
      "execution_count": null,
      "outputs": []
    },
    {
      "cell_type": "code",
      "source": [
        "print(person.name)"
      ],
      "metadata": {
        "colab": {
          "base_uri": "https://localhost:8080/",
          "height": 161
        },
        "id": "fg2fnxutXDfH",
        "outputId": "bd661eff-6b70-4d4f-8843-fefb8f16dc4d"
      },
      "execution_count": 19,
      "outputs": [
        {
          "output_type": "error",
          "ename": "AttributeError",
          "evalue": "ignored",
          "traceback": [
            "\u001b[0;31m---------------------------------------------------------------------------\u001b[0m",
            "\u001b[0;31mAttributeError\u001b[0m                            Traceback (most recent call last)",
            "\u001b[0;32m<ipython-input-19-8da234c70cac>\u001b[0m in \u001b[0;36m<module>\u001b[0;34m()\u001b[0m\n\u001b[0;32m----> 1\u001b[0;31m \u001b[0mprint\u001b[0m\u001b[0;34m(\u001b[0m\u001b[0mperson\u001b[0m\u001b[0;34m.\u001b[0m\u001b[0mname\u001b[0m\u001b[0;34m)\u001b[0m\u001b[0;34m\u001b[0m\u001b[0;34m\u001b[0m\u001b[0m\n\u001b[0m",
            "\u001b[0;31mAttributeError\u001b[0m: 'OOP1_2' object has no attribute 'name'"
          ]
        }
      ]
    },
    {
      "cell_type": "code",
      "source": [
        "print(person.age)"
      ],
      "metadata": {
        "colab": {
          "base_uri": "https://localhost:8080/"
        },
        "id": "oIZjIZNMXkPQ",
        "outputId": "5a0b8636-a3e6-461f-a215-019d7b0b6de7"
      },
      "execution_count": 20,
      "outputs": [
        {
          "output_type": "stream",
          "name": "stdout",
          "text": [
            "20\n"
          ]
        }
      ]
    },
    {
      "cell_type": "markdown",
      "source": [
        "####Application 1 - Write a Python program that computes the area of a square, and name its class as Sqaure, sides as attributes"
      ],
      "metadata": {
        "id": "iYrpnAKBXnyf"
      }
    },
    {
      "cell_type": "code",
      "source": [
        "class Square:\n",
        "  def __init__(self,sides):\n",
        "    self.sides = sides\n",
        "\n",
        "  def area(self):\n",
        "    return self.sides**2\n",
        "  def display(self):\n",
        "    print(\"The area of the sqaure is\",self.area(),\":))\")\n",
        "\n",
        "  \n",
        "square=Square(12)\n",
        "square.display()\n"
      ],
      "metadata": {
        "colab": {
          "base_uri": "https://localhost:8080/"
        },
        "id": "mquCWN_5YGn3",
        "outputId": "8cc73742-73a4-4a25-e1f9-c24d795e6b5b"
      },
      "execution_count": 43,
      "outputs": [
        {
          "output_type": "stream",
          "name": "stdout",
          "text": [
            "The area of the sqaure is 144 :))\n"
          ]
        }
      ]
    },
    {
      "cell_type": "markdown",
      "source": [
        "####Application 2 - Write a Python program that displays your full name, age, course, school. Create a class named MyClass and name, age, course, and school as attributes."
      ],
      "metadata": {
        "id": "t0Z_RFoTbYkX"
      }
    },
    {
      "cell_type": "code",
      "source": [
        "class MyClass:\n",
        "  def __init__(self, name, age, course, school):\n",
        "    self.name = name\n",
        "    self.age = age\n",
        "    self.course = course\n",
        "    self.school = school\n",
        "  def disp(self):\n",
        "    print(\"My Name is\",self.name)\n",
        "    print(\"I am\",self.age,\"years old\")\n",
        "    print(\"My course is\",self.course)\n",
        "    print(\"I study in\",self.school)\n",
        "  \n",
        "credentials=MyClass(\"Mark Jeremin C. Poblete\",18,\"Bachelor of Science in Computer Engineering\", \"Cavite State University - Main\")\n",
        "credentials.disp()\n",
        "\n"
      ],
      "metadata": {
        "colab": {
          "base_uri": "https://localhost:8080/"
        },
        "id": "NOvl1fG-b9wf",
        "outputId": "f38c0a3f-1118-4d83-9f98-61dca4bfab79"
      },
      "execution_count": 45,
      "outputs": [
        {
          "output_type": "stream",
          "name": "stdout",
          "text": [
            "My Name is Mark Jeremin C. Poblete\n",
            "I am 18 years old\n",
            "My course is Bachelor of Science in Computer Engineering\n",
            "I study in Cavite State University - Main\n"
          ]
        }
      ]
    }
  ]
}