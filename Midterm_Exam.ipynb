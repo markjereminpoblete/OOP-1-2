{
  "nbformat": 4,
  "nbformat_minor": 0,
  "metadata": {
    "colab": {
      "name": "Midterm Exam.ipynb",
      "provenance": [],
      "authorship_tag": "ABX9TyOsKAOompFbwRJ9KOanGWFs",
      "include_colab_link": true
    },
    "kernelspec": {
      "name": "python3",
      "display_name": "Python 3"
    },
    "language_info": {
      "name": "python"
    }
  },
  "cells": [
    {
      "cell_type": "markdown",
      "metadata": {
        "id": "view-in-github",
        "colab_type": "text"
      },
      "source": [
        "<a href=\"https://colab.research.google.com/github/markjereminpoblete/OOP-1-2/blob/main/Midterm_Exam.ipynb\" target=\"_parent\"><img src=\"https://colab.research.google.com/assets/colab-badge.svg\" alt=\"Open In Colab\"/></a>"
      ]
    },
    {
      "cell_type": "code",
      "execution_count": 14,
      "metadata": {
        "colab": {
          "base_uri": "https://localhost:8080/"
        },
        "id": "DEQHQA6okeTx",
        "outputId": "38425bcb-03cb-4a43-b4f4-150e4e88e983"
      },
      "outputs": [
        {
          "output_type": "stream",
          "name": "stdout",
          "text": [
            "Enter the Temperature in Celsius: 35\n",
            "308.15 Kelvin\n",
            "95.0 Fahrenheit\n",
            "Enter Temperature in Fahrenheit: 96\n",
            "35.55555555555556 Celsius\n",
            "Enter Temperature in Kelvin: 273.15\n",
            "0.0 Celsius\n"
          ]
        }
      ],
      "source": [
        "def main():\n",
        "  class TemperatureConversion:\n",
        "    def __init__(self,temp=1):\n",
        "      self.temp = temp\n",
        "  \n",
        "  class CelsiusToFahrenheit(TemperatureConversion):\n",
        "    def conversion(self):\n",
        "      return (self.temp*9)/5+32\n",
        "  class CelsiusToKelvin(TemperatureConversion):\n",
        "    def conversion(self):\n",
        "      return self.temp + 273.15\n",
        "  class FahrenheitToCelsius(TemperatureConversion):\n",
        "    def conversion(self):\n",
        "      return (self.temp - 32)*(5/9)\n",
        "  class KelvinToCelsius(TemperatureConversion):\n",
        "    def conversion(self):\n",
        "      return self.temp - 273.15\n",
        "\n",
        "  tempInCelsius = float(input(\"Enter the Temperature in Celsius: \"))\n",
        "  convert = CelsiusToKelvin(tempInCelsius)\n",
        "  print(str(convert.conversion())+ \" Kelvin\")\n",
        "  convert = CelsiusToFahrenheit(tempInCelsius)\n",
        "  print(str(convert.conversion())+ \" Fahrenheit\")\n",
        "\n",
        "  tempInFahrenheit = float(input(\"Enter Temperature in Fahrenheit: \"))\n",
        "  convert = FahrenheitToCelsius(tempInFahrenheit)\n",
        "  print(convert.conversion(), \"Celsius\")\n",
        "\n",
        "  tempInKelvin = float(input(\"Enter Temperature in Kelvin: \"))\n",
        "  convert = KelvinToCelsius(tempInKelvin)\n",
        "  print(convert.conversion(), \"Celsius\")\n",
        "\n",
        "main()\n",
        "\n"
      ]
    }
  ]
}