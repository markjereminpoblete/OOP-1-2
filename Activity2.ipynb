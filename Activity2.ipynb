{
  "nbformat": 4,
  "nbformat_minor": 0,
  "metadata": {
    "colab": {
      "name": "Activity2.ipynb",
      "provenance": [],
      "authorship_tag": "ABX9TyOWew1xpHWjBmWn7JZD447D",
      "include_colab_link": true
    },
    "kernelspec": {
      "name": "python3",
      "display_name": "Python 3"
    },
    "language_info": {
      "name": "python"
    }
  },
  "cells": [
    {
      "cell_type": "markdown",
      "metadata": {
        "id": "view-in-github",
        "colab_type": "text"
      },
      "source": [
        "<a href=\"https://colab.research.google.com/github/markjereminpoblete/OOP-1-2/blob/main/Activity2.ipynb\" target=\"_parent\"><img src=\"https://colab.research.google.com/assets/colab-badge.svg\" alt=\"Open In Colab\"/></a>"
      ]
    },
    {
      "cell_type": "code",
      "execution_count": null,
      "metadata": {
        "colab": {
          "base_uri": "https://localhost:8080/"
        },
        "id": "jp2MPKGfWxG5",
        "outputId": "84d4835e-9a3c-4ebf-b89b-aea05b893526"
      },
      "outputs": [
        {
          "output_type": "stream",
          "name": "stdout",
          "text": [
            "Temperature in Celsius: 5.689\n",
            "Equivalent Fahrenheit:  42.2402\n"
          ]
        }
      ],
      "source": [
        "#Write a python program that converts the temperature Celsius to Fahrenheit. Create a class named Temperature. \n",
        "#Create Celsius as attribute name, Temp() as method and temp1 as object name.\n",
        "\n",
        "class Temperature:\n",
        "  def __init__(self, Celsius):\n",
        "    self.Celsius = Celsius\n",
        "\n",
        "  def Temp(self):\n",
        "    return ((self.Celsius*1.8)+32)\n",
        "  \n",
        "temp1 = Temperature (float(input(\"Temperature in Celsius: \")))\n",
        "print(\"Equivalent Fahrenheit: \", temp1.Temp())\n",
        "\n",
        "\n"
      ]
    },
    {
      "cell_type": "code",
      "source": [
        "#Define an Area() method of the class that calculates the circle’s area.\n",
        "#Define a Perimeter() method of the class which allows you to calculate the perimeter of the circle.\n",
        "import math\n",
        "\n",
        "class Circle:\n",
        "  def __init__(self, radius,):\n",
        "    self.radius = radius\n",
        "\n",
        "  def Area(self):\n",
        "    return round(((math.pi*(self.radius)**2)),2)\n",
        "  def Perimeter(self):\n",
        "    return round(((2*math.pi*self.radius)),2)\n",
        "\n",
        "circ = Circle(float(input(\"Radius: \")))\n",
        "print(\"The Area of the Circle is: \", circ.Area())\n",
        "print(\"The Perimeter of the Circle is: \", circ.Perimeter())"
      ],
      "metadata": {
        "colab": {
          "base_uri": "https://localhost:8080/"
        },
        "id": "FxDzzZkafkui",
        "outputId": "12dc5b20-c254-4d56-bab3-45f88a50eb9a"
      },
      "execution_count": null,
      "outputs": [
        {
          "output_type": "stream",
          "name": "stdout",
          "text": [
            "Radius: 65\n",
            "The Area of the Circle is:  13273.23\n",
            "The Perimeter of the Circle is:  408.41\n"
          ]
        }
      ]
    }
  ]
}