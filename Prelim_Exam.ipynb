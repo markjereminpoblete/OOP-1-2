{
  "nbformat": 4,
  "nbformat_minor": 0,
  "metadata": {
    "colab": {
      "name": "Prelim Exam.ipynb",
      "provenance": [],
      "authorship_tag": "ABX9TyPIvzwLu+C50XakuTFsLCN8",
      "include_colab_link": true
    },
    "kernelspec": {
      "name": "python3",
      "display_name": "Python 3"
    },
    "language_info": {
      "name": "python"
    }
  },
  "cells": [
    {
      "cell_type": "markdown",
      "metadata": {
        "id": "view-in-github",
        "colab_type": "text"
      },
      "source": [
        "<a href=\"https://colab.research.google.com/github/markjereminpoblete/OOP-1-2/blob/main/Prelim_Exam.ipynb\" target=\"_parent\"><img src=\"https://colab.research.google.com/assets/colab-badge.svg\" alt=\"Open In Colab\"/></a>"
      ]
    },
    {
      "cell_type": "code",
      "execution_count": null,
      "metadata": {
        "colab": {
          "base_uri": "https://localhost:8080/"
        },
        "id": "JNS_Sl5UZQjE",
        "outputId": "658a12d1-5863-42b8-bc67-6a8471459c3d"
      },
      "outputs": [
        {
          "output_type": "stream",
          "name": "stdout",
          "text": [
            "Full Name: Mark Jeremin C. Poblete\n",
            "Student Number: 202101927\n",
            "Age: 18 Years Old\n",
            "School: Cavite State University - Main\n",
            "Course: Bachelor of Science in Computer Engineering\n"
          ]
        }
      ],
      "source": [
        "class Student:\n",
        "  def __init__(self, Name, Student_No, Age, School, Course):\n",
        "    self.Name = Name\n",
        "    self.Student_No = Student_No\n",
        "    self.Age = Age\n",
        "    self.School = School\n",
        "    self.Course = Course\n",
        "\n",
        "  def Info(self):\n",
        "    print(\"Full Name:\",self.Name)\n",
        "    print(\"Student Number:\",self.Student_No)\n",
        "    print(\"Age:\",self.Age)\n",
        "    print(\"School:\",self.School)\n",
        "    print(\"Course:\",self.Course)\n",
        "\n",
        "\n",
        "Myself = Student(\"Mark Jeremin C. Poblete\", \"202101927\",\"18 Years Old\", \"Cavite State University - Main\",\"Bachelor of Science in Computer Engineering\")\n",
        "Myself.Info()"
      ]
    }
  ]
}