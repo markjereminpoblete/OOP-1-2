{
  "nbformat": 4,
  "nbformat_minor": 0,
  "metadata": {
    "colab": {
      "name": "GUI Application.ipynb",
      "provenance": [],
      "authorship_tag": "ABX9TyOAnIu9TOKKwn58n4Iawymz",
      "include_colab_link": true
    },
    "kernelspec": {
      "name": "python3",
      "display_name": "Python 3"
    },
    "language_info": {
      "name": "python"
    }
  },
  "cells": [
    {
      "cell_type": "markdown",
      "metadata": {
        "id": "view-in-github",
        "colab_type": "text"
      },
      "source": [
        "<a href=\"https://colab.research.google.com/github/markjereminpoblete/OOP-1-2/blob/main/GUI_Application.ipynb\" target=\"_parent\"><img src=\"https://colab.research.google.com/assets/colab-badge.svg\" alt=\"Open In Colab\"/></a>"
      ]
    },
    {
      "cell_type": "code",
      "execution_count": 20,
      "metadata": {
        "colab": {
          "base_uri": "https://localhost:8080/"
        },
        "id": "6g6p0JNXtZoX",
        "outputId": "70755bbe-ad35-4f80-ed49-55236600c841"
      },
      "outputs": [
        {
          "output_type": "stream",
          "name": "stdout",
          "text": [
            "The Prelim grade of Student 1 is 90\n",
            "The Midterm grade of Student 1 is 95\n",
            "The Final grade of Student 1 is 100\n",
            "The Semestral Grade of Student 1 is 95.0\n",
            "His gender is Male\n"
          ]
        }
      ],
      "source": [
        "#@title Students Grade in OOP\n",
        "\n",
        "Student_Name1 = 'Enter Student Name' #@param{type:\"string\"}\n",
        "prelim =   90#@param{type:\"number\"}\n",
        "midterm =  95#@param {type:\"number\"}\n",
        "final =  100#@param{type:\"number\"}\n",
        "semestral_grade = (prelim+midterm+final)/3\n",
        "\n",
        "print(\"The Prelim grade of Student 1 is\",prelim)\n",
        "print(\"The Midterm grade of Student 1 is\",midterm)\n",
        "print(\"The Final grade of Student 1 is\",final)\n",
        "print(\"The Semestral Grade of Student 1 is\",semestral_grade)\n",
        "\n",
        "#@title Gender\n",
        "Gender = \"Male\" #@param[\"Male\",\"Female\"]\n",
        "print(\"His gender is\",Gender)\n",
        "\n",
        "\n",
        "Birthdate = '2003-06-04'#@param{type:\"date\"} "
      ]
    }
  ]
}